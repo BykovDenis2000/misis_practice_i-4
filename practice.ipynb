{
 "cells": [
  {
   "cell_type": "code",
   "execution_count": 23,
   "metadata": {},
   "outputs": [],
   "source": [
    "import json\n",
    "import numpy as np\n",
    "import statistics"
   ]
  },
  {
   "cell_type": "code",
   "execution_count": 16,
   "metadata": {},
   "outputs": [],
   "source": [
    "jsonFile = open('ALGORITM/data_for_algoritm_11834.json', 'r')\n",
    "values = json.load(jsonFile)\n",
    "jsonFile.close()"
   ]
  },
  {
   "cell_type": "code",
   "execution_count": 17,
   "metadata": {},
   "outputs": [
    {
     "name": "stdout",
     "output_type": "stream",
     "text": [
      "[{'size': {'width': 196.0, 'height': 311.0, 'length': 324.0}, 'stacking': True, 'turnover': True}, {'size': {'width': 297.0, 'height': 279.0, 'length': 387.0}, 'stacking': True, 'turnover': True}, {'size': {'width': 297.0, 'height': 279.0, 'length': 387.0}, 'stacking': True, 'turnover': True}, {'size': {'width': 57.0, 'height': 117.0, 'length': 182.0}, 'stacking': True, 'turnover': True}, {'size': {'width': 96.0, 'height': 194.0, 'length': 141.0}, 'stacking': True, 'turnover': True}, {'size': {'width': 92.0, 'height': 202.0, 'length': 188.0}, 'stacking': True, 'turnover': True}, {'size': {'width': 57.0, 'height': 117.0, 'length': 182.0}, 'stacking': True, 'turnover': True}, {'size': {'width': 97.0, 'height': 190.0, 'length': 143.0}, 'stacking': True, 'turnover': True}, {'size': {'width': 269.0, 'height': 310.0, 'length': 348.0}, 'stacking': True, 'turnover': True}, {'size': {'width': 148.0, 'height': 220.0, 'length': 398.0}, 'stacking': True, 'turnover': True}, {'size': {'width': 148.0, 'height': 220.0, 'length': 398.0}, 'stacking': True, 'turnover': True}, {'size': {'width': 96.0, 'height': 194.0, 'length': 141.0}, 'stacking': True, 'turnover': True}, {'size': {'width': 297.0, 'height': 279.0, 'length': 387.0}, 'stacking': True, 'turnover': True}, {'size': {'width': 166.0, 'height': 265.0, 'length': 297.0}, 'stacking': True, 'turnover': True}, {'size': {'width': 113.0, 'height': 131.0, 'length': 273.0}, 'stacking': True, 'turnover': True}, {'size': {'width': 97.0, 'height': 180.0, 'length': 143.0}, 'stacking': True, 'turnover': True}, {'size': {'width': 185.0, 'height': 229.0, 'length': 281.0}, 'stacking': True, 'turnover': True}, {'size': {'width': 113.0, 'height': 131.0, 'length': 273.0}, 'stacking': True, 'turnover': True}, {'size': {'width': 185.0, 'height': 229.0, 'length': 281.0}, 'stacking': True, 'turnover': True}, {'size': {'width': 185.0, 'height': 229.0, 'length': 281.0}, 'stacking': True, 'turnover': True}, {'size': {'width': 166.0, 'height': 177.0, 'length': 256.0}, 'stacking': True, 'turnover': True}, {'size': {'width': 75.0, 'height': 123.0, 'length': 203.0}, 'stacking': True, 'turnover': True}, {'size': {'width': 122.0, 'height': 174.0, 'length': 360.0}, 'stacking': True, 'turnover': True}, {'size': {'width': 75.0, 'height': 123.0, 'length': 203.0}, 'stacking': True, 'turnover': True}, {'size': {'width': 97.0, 'height': 180.0, 'length': 143.0}, 'stacking': True, 'turnover': True}, {'size': {'width': 166.0, 'height': 265.0, 'length': 297.0}, 'stacking': True, 'turnover': True}, {'size': {'width': 186.0, 'height': 205.0, 'length': 356.0}, 'stacking': True, 'turnover': True}, {'size': {'width': 95.0, 'height': 182.0, 'length': 142.0}, 'stacking': True, 'turnover': True}, {'size': {'width': 57.0, 'height': 117.0, 'length': 182.0}, 'stacking': True, 'turnover': True}, {'size': {'width': 96.0, 'height': 194.0, 'length': 141.0}, 'stacking': True, 'turnover': True}, {'size': {'width': 108.0, 'height': 146.0, 'length': 159.0}, 'stacking': True, 'turnover': True}, {'size': {'width': 185.0, 'height': 229.0, 'length': 281.0}, 'stacking': True, 'turnover': True}, {'size': {'width': 185.0, 'height': 229.0, 'length': 281.0}, 'stacking': True, 'turnover': True}, {'size': {'width': 108.0, 'height': 146.0, 'length': 159.0}, 'stacking': True, 'turnover': True}, {'size': {'width': 185.0, 'height': 229.0, 'length': 281.0}, 'stacking': True, 'turnover': True}, {'size': {'width': 57.0, 'height': 117.0, 'length': 182.0}, 'stacking': True, 'turnover': True}, {'size': {'width': 57.0, 'height': 117.0, 'length': 182.0}, 'stacking': True, 'turnover': True}, {'size': {'width': 185.0, 'height': 229.0, 'length': 281.0}, 'stacking': True, 'turnover': True}, {'size': {'width': 108.0, 'height': 146.0, 'length': 159.0}, 'stacking': True, 'turnover': True}, {'size': {'width': 166.0, 'height': 265.0, 'length': 297.0}, 'stacking': True, 'turnover': True}, {'size': {'width': 166.0, 'height': 265.0, 'length': 297.0}, 'stacking': True, 'turnover': True}, {'size': {'width': 166.0, 'height': 265.0, 'length': 297.0}, 'stacking': True, 'turnover': True}, {'size': {'width': 171.0, 'height': 142.0, 'length': 236.0}, 'stacking': True, 'turnover': True}, {'size': {'width': 185.0, 'height': 229.0, 'length': 281.0}, 'stacking': True, 'turnover': True}, {'size': {'width': 185.0, 'height': 229.0, 'length': 281.0}, 'stacking': True, 'turnover': True}, {'size': {'width': 150.0, 'height': 213.0, 'length': 228.0}, 'stacking': True, 'turnover': True}, {'size': {'width': 95.0, 'height': 182.0, 'length': 142.0}, 'stacking': True, 'turnover': True}, {'size': {'width': 57.0, 'height': 117.0, 'length': 182.0}, 'stacking': True, 'turnover': True}, {'size': {'width': 96.0, 'height': 194.0, 'length': 141.0}, 'stacking': True, 'turnover': True}, {'size': {'width': 72.0, 'height': 122.0, 'length': 182.0}, 'stacking': True, 'turnover': True}, {'size': {'width': 222.0, 'height': 141.0, 'length': 287.0}, 'stacking': True, 'turnover': True}, {'size': {'width': 96.0, 'height': 194.0, 'length': 141.0}, 'stacking': True, 'turnover': True}, {'size': {'width': 97.0, 'height': 180.0, 'length': 143.0}, 'stacking': True, 'turnover': True}, {'size': {'width': 185.0, 'height': 229.0, 'length': 281.0}, 'stacking': True, 'turnover': True}, {'size': {'width': 104.0, 'height': 115.0, 'length': 155.0}, 'stacking': True, 'turnover': True}, {'size': {'width': 97.0, 'height': 180.0, 'length': 143.0}, 'stacking': True, 'turnover': True}, {'size': {'width': 108.0, 'height': 146.0, 'length': 159.0}, 'stacking': True, 'turnover': True}, {'size': {'width': 185.0, 'height': 229.0, 'length': 281.0}, 'stacking': True, 'turnover': True}, {'size': {'width': 57.0, 'height': 117.0, 'length': 182.0}, 'stacking': True, 'turnover': True}, {'size': {'width': 185.0, 'height': 229.0, 'length': 281.0}, 'stacking': True, 'turnover': True}, {'size': {'width': 222.0, 'height': 141.0, 'length': 287.0}, 'stacking': True, 'turnover': True}, {'size': {'width': 87.0, 'height': 144.0, 'length': 263.0}, 'stacking': True, 'turnover': True}, {'size': {'width': 97.0, 'height': 190.0, 'length': 143.0}, 'stacking': True, 'turnover': True}, {'size': {'width': 97.0, 'height': 190.0, 'length': 143.0}, 'stacking': True, 'turnover': True}, {'size': {'width': 185.0, 'height': 229.0, 'length': 281.0}, 'stacking': True, 'turnover': True}, {'size': {'width': 72.0, 'height': 122.0, 'length': 182.0}, 'stacking': True, 'turnover': True}, {'size': {'width': 166.0, 'height': 177.0, 'length': 256.0}, 'stacking': True, 'turnover': True}, {'size': {'width': 166.0, 'height': 265.0, 'length': 297.0}, 'stacking': True, 'turnover': True}, {'size': {'width': 95.0, 'height': 182.0, 'length': 142.0}, 'stacking': True, 'turnover': True}, {'size': {'width': 57.0, 'height': 117.0, 'length': 182.0}, 'stacking': True, 'turnover': True}, {'size': {'width': 166.0, 'height': 265.0, 'length': 297.0}, 'stacking': True, 'turnover': True}, {'size': {'width': 166.0, 'height': 265.0, 'length': 297.0}, 'stacking': True, 'turnover': True}, {'size': {'width': 166.0, 'height': 177.0, 'length': 256.0}, 'stacking': True, 'turnover': True}, {'size': {'width': 185.0, 'height': 229.0, 'length': 281.0}, 'stacking': True, 'turnover': True}, {'size': {'width': 166.0, 'height': 265.0, 'length': 297.0}, 'stacking': True, 'turnover': True}, {'size': {'width': 166.0, 'height': 265.0, 'length': 297.0}, 'stacking': True, 'turnover': True}, {'size': {'width': 166.0, 'height': 265.0, 'length': 297.0}, 'stacking': True, 'turnover': True}, {'size': {'width': 166.0, 'height': 265.0, 'length': 297.0}, 'stacking': True, 'turnover': True}, {'size': {'width': 97.0, 'height': 180.0, 'length': 143.0}, 'stacking': True, 'turnover': True}, {'size': {'width': 108.0, 'height': 146.0, 'length': 159.0}, 'stacking': True, 'turnover': True}, {'size': {'width': 108.0, 'height': 146.0, 'length': 159.0}, 'stacking': True, 'turnover': True}, {'size': {'width': 101.0, 'height': 126.0, 'length': 142.0}, 'stacking': True, 'turnover': True}, {'size': {'width': 72.0, 'height': 122.0, 'length': 182.0}, 'stacking': True, 'turnover': True}, {'size': {'width': 108.0, 'height': 146.0, 'length': 159.0}, 'stacking': True, 'turnover': True}, {'size': {'width': 108.0, 'height': 146.0, 'length': 159.0}, 'stacking': True, 'turnover': True}, {'size': {'width': 222.0, 'height': 141.0, 'length': 287.0}, 'stacking': True, 'turnover': True}, {'size': {'width': 97.0, 'height': 180.0, 'length': 143.0}, 'stacking': True, 'turnover': True}, {'size': {'width': 101.0, 'height': 126.0, 'length': 142.0}, 'stacking': True, 'turnover': True}, {'size': {'width': 87.0, 'height': 144.0, 'length': 263.0}, 'stacking': True, 'turnover': True}, {'size': {'width': 150.0, 'height': 213.0, 'length': 228.0}, 'stacking': True, 'turnover': True}, {'size': {'width': 150.0, 'height': 213.0, 'length': 228.0}, 'stacking': True, 'turnover': True}, {'size': {'width': 160.0, 'height': 144.0, 'length': 346.0}, 'stacking': True, 'turnover': True}, {'size': {'width': 160.0, 'height': 144.0, 'length': 346.0}, 'stacking': True, 'turnover': True}, {'size': {'width': 166.0, 'height': 177.0, 'length': 256.0}, 'stacking': True, 'turnover': True}, {'size': {'width': 166.0, 'height': 265.0, 'length': 297.0}, 'stacking': True, 'turnover': True}, {'size': {'width': 166.0, 'height': 177.0, 'length': 256.0}, 'stacking': True, 'turnover': True}, {'size': {'width': 166.0, 'height': 177.0, 'length': 256.0}, 'stacking': True, 'turnover': True}, {'size': {'width': 186.0, 'height': 202.0, 'length': 260.0}, 'stacking': True, 'turnover': True}, {'size': {'width': 168.0, 'height': 249.0, 'length': 252.0}, 'stacking': True, 'turnover': True}, {'size': {'width': 97.0, 'height': 180.0, 'length': 143.0}, 'stacking': True, 'turnover': True}, {'size': {'width': 186.0, 'height': 202.0, 'length': 260.0}, 'stacking': True, 'turnover': True}, {'size': {'width': 186.0, 'height': 202.0, 'length': 260.0}, 'stacking': True, 'turnover': True}, {'size': {'width': 75.0, 'height': 123.0, 'length': 203.0}, 'stacking': True, 'turnover': True}, {'size': {'width': 166.0, 'height': 177.0, 'length': 256.0}, 'stacking': True, 'turnover': True}, {'size': {'width': 108.0, 'height': 146.0, 'length': 159.0}, 'stacking': True, 'turnover': True}, {'size': {'width': 72.0, 'height': 122.0, 'length': 182.0}, 'stacking': True, 'turnover': True}, {'size': {'width': 72.0, 'height': 122.0, 'length': 182.0}, 'stacking': True, 'turnover': True}, {'size': {'width': 166.0, 'height': 177.0, 'length': 256.0}, 'stacking': True, 'turnover': True}, {'size': {'width': 97.0, 'height': 180.0, 'length': 143.0}, 'stacking': True, 'turnover': True}, {'size': {'width': 166.0, 'height': 177.0, 'length': 256.0}, 'stacking': True, 'turnover': True}, {'size': {'width': 97.0, 'height': 180.0, 'length': 143.0}, 'stacking': True, 'turnover': True}, {'size': {'width': 57.0, 'height': 117.0, 'length': 182.0}, 'stacking': True, 'turnover': True}, {'size': {'width': 97.0, 'height': 180.0, 'length': 143.0}, 'stacking': True, 'turnover': True}, {'size': {'width': 104.0, 'height': 115.0, 'length': 155.0}, 'stacking': True, 'turnover': True}, {'size': {'width': 150.0, 'height': 213.0, 'length': 228.0}, 'stacking': True, 'turnover': True}, {'size': {'width': 167.0, 'height': 221.0, 'length': 232.0}, 'stacking': True, 'turnover': True}, {'size': {'width': 174.0, 'height': 162.0, 'length': 180.0}, 'stacking': True, 'turnover': True}, {'size': {'width': 167.0, 'height': 221.0, 'length': 232.0}, 'stacking': True, 'turnover': True}, {'size': {'width': 150.0, 'height': 213.0, 'length': 228.0}, 'stacking': True, 'turnover': True}, {'size': {'width': 150.0, 'height': 213.0, 'length': 228.0}, 'stacking': True, 'turnover': True}, {'size': {'width': 150.0, 'height': 213.0, 'length': 228.0}, 'stacking': True, 'turnover': True}, {'size': {'width': 87.0, 'height': 144.0, 'length': 263.0}, 'stacking': True, 'turnover': True}, {'size': {'width': 150.0, 'height': 213.0, 'length': 228.0}, 'stacking': True, 'turnover': True}, {'size': {'width': 166.0, 'height': 177.0, 'length': 256.0}, 'stacking': True, 'turnover': True}, {'size': {'width': 166.0, 'height': 177.0, 'length': 256.0}, 'stacking': True, 'turnover': True}, {'size': {'width': 75.0, 'height': 123.0, 'length': 203.0}, 'stacking': True, 'turnover': True}, {'size': {'width': 150.0, 'height': 213.0, 'length': 228.0}, 'stacking': True, 'turnover': True}, {'size': {'width': 166.0, 'height': 177.0, 'length': 256.0}, 'stacking': True, 'turnover': True}, {'size': {'width': 75.0, 'height': 123.0, 'length': 203.0}, 'stacking': True, 'turnover': True}, {'size': {'width': 150.0, 'height': 213.0, 'length': 228.0}, 'stacking': True, 'turnover': True}, {'size': {'width': 57.0, 'height': 117.0, 'length': 180.0}, 'stacking': True, 'turnover': True}, {'size': {'width': 108.0, 'height': 146.0, 'length': 159.0}, 'stacking': True, 'turnover': True}, {'size': {'width': 171.0, 'height': 142.0, 'length': 236.0}, 'stacking': True, 'turnover': True}, {'size': {'width': 174.0, 'height': 162.0, 'length': 180.0}, 'stacking': True, 'turnover': True}, {'size': {'width': 174.0, 'height': 162.0, 'length': 180.0}, 'stacking': True, 'turnover': True}, {'size': {'width': 150.0, 'height': 213.0, 'length': 228.0}, 'stacking': True, 'turnover': True}, {'size': {'width': 181.0, 'height': 157.0, 'length': 241.0}, 'stacking': True, 'turnover': True}, {'size': {'width': 150.0, 'height': 213.0, 'length': 228.0}, 'stacking': True, 'turnover': True}, {'size': {'width': 87.0, 'height': 144.0, 'length': 263.0}, 'stacking': True, 'turnover': True}, {'size': {'width': 150.0, 'height': 213.0, 'length': 228.0}, 'stacking': True, 'turnover': True}, {'size': {'width': 150.0, 'height': 213.0, 'length': 228.0}, 'stacking': True, 'turnover': True}, {'size': {'width': 150.0, 'height': 213.0, 'length': 228.0}, 'stacking': True, 'turnover': True}, {'size': {'width': 150.0, 'height': 213.0, 'length': 228.0}, 'stacking': True, 'turnover': True}, {'size': {'width': 150.0, 'height': 213.0, 'length': 228.0}, 'stacking': True, 'turnover': True}, {'size': {'width': 150.0, 'height': 213.0, 'length': 228.0}, 'stacking': True, 'turnover': True}, {'size': {'width': 150.0, 'height': 213.0, 'length': 228.0}, 'stacking': True, 'turnover': True}, {'size': {'width': 150.0, 'height': 213.0, 'length': 228.0}, 'stacking': True, 'turnover': True}, {'size': {'width': 150.0, 'height': 213.0, 'length': 228.0}, 'stacking': True, 'turnover': True}, {'size': {'width': 108.0, 'height': 146.0, 'length': 159.0}, 'stacking': True, 'turnover': True}, {'size': {'width': 72.0, 'height': 122.0, 'length': 182.0}, 'stacking': True, 'turnover': True}, {'size': {'width': 95.0, 'height': 182.0, 'length': 142.0}, 'stacking': True, 'turnover': True}, {'size': {'width': 95.0, 'height': 182.0, 'length': 142.0}, 'stacking': True, 'turnover': True}, {'size': {'width': 57.0, 'height': 117.0, 'length': 180.0}, 'stacking': True, 'turnover': True}, {'size': {'width': 57.0, 'height': 117.0, 'length': 182.0}, 'stacking': True, 'turnover': True}, {'size': {'width': 222.0, 'height': 141.0, 'length': 287.0}, 'stacking': True, 'turnover': True}, {'size': {'width': 95.0, 'height': 182.0, 'length': 142.0}, 'stacking': True, 'turnover': True}, {'size': {'width': 174.0, 'height': 162.0, 'length': 180.0}, 'stacking': True, 'turnover': True}, {'size': {'width': 57.0, 'height': 117.0, 'length': 180.0}, 'stacking': True, 'turnover': True}, {'size': {'width': 97.0, 'height': 180.0, 'length': 143.0}, 'stacking': True, 'turnover': True}, {'size': {'width': 174.0, 'height': 162.0, 'length': 180.0}, 'stacking': True, 'turnover': True}, {'size': {'width': 174.0, 'height': 162.0, 'length': 180.0}, 'stacking': True, 'turnover': True}, {'size': {'width': 150.0, 'height': 213.0, 'length': 228.0}, 'stacking': True, 'turnover': True}, {'size': {'width': 174.0, 'height': 162.0, 'length': 180.0}, 'stacking': True, 'turnover': True}, {'size': {'width': 150.0, 'height': 213.0, 'length': 228.0}, 'stacking': True, 'turnover': True}, {'size': {'width': 87.0, 'height': 144.0, 'length': 263.0}, 'stacking': True, 'turnover': True}, {'size': {'width': 150.0, 'height': 213.0, 'length': 228.0}, 'stacking': True, 'turnover': True}, {'size': {'width': 150.0, 'height': 213.0, 'length': 228.0}, 'stacking': True, 'turnover': True}, {'size': {'width': 104.0, 'height': 115.0, 'length': 155.0}, 'stacking': True, 'turnover': True}, {'size': {'width': 150.0, 'height': 213.0, 'length': 228.0}, 'stacking': True, 'turnover': True}, {'size': {'width': 150.0, 'height': 213.0, 'length': 228.0}, 'stacking': True, 'turnover': True}, {'size': {'width': 95.0, 'height': 182.0, 'length': 142.0}, 'stacking': True, 'turnover': True}, {'size': {'width': 57.0, 'height': 117.0, 'length': 182.0}, 'stacking': True, 'turnover': True}, {'size': {'width': 150.0, 'height': 213.0, 'length': 228.0}, 'stacking': True, 'turnover': True}, {'size': {'width': 150.0, 'height': 213.0, 'length': 228.0}, 'stacking': True, 'turnover': True}, {'size': {'width': 95.0, 'height': 182.0, 'length': 142.0}, 'stacking': True, 'turnover': True}, {'size': {'width': 150.0, 'height': 213.0, 'length': 228.0}, 'stacking': True, 'turnover': True}, {'size': {'width': 150.0, 'height': 213.0, 'length': 228.0}, 'stacking': True, 'turnover': True}, {'size': {'width': 150.0, 'height': 213.0, 'length': 228.0}, 'stacking': True, 'turnover': True}, {'size': {'width': 171.0, 'height': 142.0, 'length': 236.0}, 'stacking': True, 'turnover': True}, {'size': {'width': 171.0, 'height': 142.0, 'length': 236.0}, 'stacking': True, 'turnover': True}, {'size': {'width': 150.0, 'height': 213.0, 'length': 228.0}, 'stacking': True, 'turnover': True}, {'size': {'width': 57.0, 'height': 117.0, 'length': 180.0}, 'stacking': True, 'turnover': True}, {'size': {'width': 87.0, 'height': 144.0, 'length': 263.0}, 'stacking': True, 'turnover': True}, {'size': {'width': 104.0, 'height': 115.0, 'length': 155.0}, 'stacking': True, 'turnover': True}, {'size': {'width': 104.0, 'height': 115.0, 'length': 155.0}, 'stacking': True, 'turnover': True}, {'size': {'width': 150.0, 'height': 213.0, 'length': 228.0}, 'stacking': True, 'turnover': True}, {'size': {'width': 104.0, 'height': 115.0, 'length': 155.0}, 'stacking': True, 'turnover': True}, {'size': {'width': 104.0, 'height': 115.0, 'length': 155.0}, 'stacking': True, 'turnover': True}, {'size': {'width': 150.0, 'height': 213.0, 'length': 228.0}, 'stacking': True, 'turnover': True}, {'size': {'width': 151.0, 'height': 165.0, 'length': 220.0}, 'stacking': True, 'turnover': True}, {'size': {'width': 104.0, 'height': 115.0, 'length': 155.0}, 'stacking': True, 'turnover': True}, {'size': {'width': 171.0, 'height': 142.0, 'length': 236.0}, 'stacking': True, 'turnover': True}, {'size': {'width': 151.0, 'height': 165.0, 'length': 220.0}, 'stacking': True, 'turnover': True}, {'size': {'width': 150.0, 'height': 213.0, 'length': 228.0}, 'stacking': True, 'turnover': True}, {'size': {'width': 150.0, 'height': 213.0, 'length': 228.0}, 'stacking': True, 'turnover': True}, {'size': {'width': 104.0, 'height': 115.0, 'length': 155.0}, 'stacking': True, 'turnover': True}, {'size': {'width': 150.0, 'height': 213.0, 'length': 228.0}, 'stacking': True, 'turnover': True}, {'size': {'width': 150.0, 'height': 213.0, 'length': 228.0}, 'stacking': True, 'turnover': True}, {'size': {'width': 150.0, 'height': 213.0, 'length': 228.0}, 'stacking': True, 'turnover': True}, {'size': {'width': 87.0, 'height': 144.0, 'length': 263.0}, 'stacking': True, 'turnover': True}, {'size': {'width': 104.0, 'height': 115.0, 'length': 155.0}, 'stacking': True, 'turnover': True}, {'size': {'width': 150.0, 'height': 213.0, 'length': 228.0}, 'stacking': True, 'turnover': True}, {'size': {'width': 87.0, 'height': 144.0, 'length': 263.0}, 'stacking': True, 'turnover': True}, {'size': {'width': 167.0, 'height': 221.0, 'length': 232.0}, 'stacking': True, 'turnover': True}, {'size': {'width': 150.0, 'height': 213.0, 'length': 228.0}, 'stacking': True, 'turnover': True}, {'size': {'width': 150.0, 'height': 213.0, 'length': 228.0}, 'stacking': True, 'turnover': True}, {'size': {'width': 150.0, 'height': 213.0, 'length': 228.0}, 'stacking': True, 'turnover': True}, {'size': {'width': 150.0, 'height': 213.0, 'length': 228.0}, 'stacking': True, 'turnover': True}, {'size': {'width': 75.0, 'height': 123.0, 'length': 203.0}, 'stacking': True, 'turnover': True}, {'size': {'width': 95.0, 'height': 182.0, 'length': 142.0}, 'stacking': True, 'turnover': True}, {'size': {'width': 95.0, 'height': 182.0, 'length': 142.0}, 'stacking': True, 'turnover': True}, {'size': {'width': 171.0, 'height': 142.0, 'length': 236.0}, 'stacking': True, 'turnover': True}, {'size': {'width': 57.0, 'height': 117.0, 'length': 180.0}, 'stacking': True, 'turnover': True}, {'size': {'width': 104.0, 'height': 115.0, 'length': 155.0}, 'stacking': True, 'turnover': True}, {'size': {'width': 104.0, 'height': 115.0, 'length': 155.0}, 'stacking': True, 'turnover': True}, {'size': {'width': 150.0, 'height': 213.0, 'length': 228.0}, 'stacking': True, 'turnover': True}, {'size': {'width': 150.0, 'height': 213.0, 'length': 228.0}, 'stacking': True, 'turnover': True}, {'size': {'width': 150.0, 'height': 213.0, 'length': 228.0}, 'stacking': True, 'turnover': True}, {'size': {'width': 150.0, 'height': 213.0, 'length': 228.0}, 'stacking': True, 'turnover': True}, {'size': {'width': 150.0, 'height': 213.0, 'length': 228.0}, 'stacking': True, 'turnover': True}, {'size': {'width': 75.0, 'height': 123.0, 'length': 203.0}, 'stacking': True, 'turnover': True}, {'size': {'width': 75.0, 'height': 123.0, 'length': 203.0}, 'stacking': True, 'turnover': True}, {'size': {'width': 174.0, 'height': 162.0, 'length': 180.0}, 'stacking': True, 'turnover': True}, {'size': {'width': 104.0, 'height': 115.0, 'length': 155.0}, 'stacking': True, 'turnover': True}, {'size': {'width': 104.0, 'height': 115.0, 'length': 155.0}, 'stacking': True, 'turnover': True}, {'size': {'width': 171.0, 'height': 142.0, 'length': 236.0}, 'stacking': True, 'turnover': True}, {'size': {'width': 104.0, 'height': 115.0, 'length': 155.0}, 'stacking': True, 'turnover': True}, {'size': {'width': 104.0, 'height': 115.0, 'length': 155.0}, 'stacking': True, 'turnover': True}, {'size': {'width': 150.0, 'height': 213.0, 'length': 228.0}, 'stacking': True, 'turnover': True}, {'size': {'width': 104.0, 'height': 115.0, 'length': 155.0}, 'stacking': True, 'turnover': True}, {'size': {'width': 104.0, 'height': 115.0, 'length': 155.0}, 'stacking': True, 'turnover': True}, {'size': {'width': 171.0, 'height': 142.0, 'length': 236.0}, 'stacking': True, 'turnover': True}, {'size': {'width': 171.0, 'height': 142.0, 'length': 236.0}, 'stacking': True, 'turnover': True}, {'size': {'width': 95.0, 'height': 182.0, 'length': 142.0}, 'stacking': True, 'turnover': True}, {'size': {'width': 171.0, 'height': 142.0, 'length': 236.0}, 'stacking': True, 'turnover': True}, {'size': {'width': 104.0, 'height': 115.0, 'length': 155.0}, 'stacking': True, 'turnover': True}, {'size': {'width': 104.0, 'height': 115.0, 'length': 155.0}, 'stacking': True, 'turnover': True}, {'size': {'width': 104.0, 'height': 115.0, 'length': 155.0}, 'stacking': True, 'turnover': True}, {'size': {'width': 104.0, 'height': 115.0, 'length': 155.0}, 'stacking': True, 'turnover': True}, {'size': {'width': 104.0, 'height': 115.0, 'length': 155.0}, 'stacking': True, 'turnover': True}, {'size': {'width': 104.0, 'height': 115.0, 'length': 155.0}, 'stacking': True, 'turnover': True}, {'size': {'width': 104.0, 'height': 115.0, 'length': 155.0}, 'stacking': True, 'turnover': True}, {'size': {'width': 150.0, 'height': 213.0, 'length': 228.0}, 'stacking': True, 'turnover': True}, {'size': {'width': 150.0, 'height': 213.0, 'length': 228.0}, 'stacking': True, 'turnover': True}, {'size': {'width': 95.0, 'height': 182.0, 'length': 142.0}, 'stacking': True, 'turnover': True}, {'size': {'width': 95.0, 'height': 182.0, 'length': 142.0}, 'stacking': True, 'turnover': True}, {'size': {'width': 57.0, 'height': 117.0, 'length': 180.0}, 'stacking': True, 'turnover': True}, {'size': {'width': 104.0, 'height': 115.0, 'length': 155.0}, 'stacking': True, 'turnover': True}, {'size': {'width': 150.0, 'height': 213.0, 'length': 228.0}, 'stacking': True, 'turnover': True}, {'size': {'width': 150.0, 'height': 213.0, 'length': 228.0}, 'stacking': True, 'turnover': True}, {'size': {'width': 95.0, 'height': 182.0, 'length': 142.0}, 'stacking': True, 'turnover': True}, {'size': {'width': 150.0, 'height': 213.0, 'length': 228.0}, 'stacking': True, 'turnover': True}, {'size': {'width': 150.0, 'height': 213.0, 'length': 228.0}, 'stacking': True, 'turnover': True}, {'size': {'width': 151.0, 'height': 163.0, 'length': 220.0}, 'stacking': True, 'turnover': True}, {'size': {'width': 57.0, 'height': 117.0, 'length': 180.0}, 'stacking': True, 'turnover': True}, {'size': {'width': 57.0, 'height': 117.0, 'length': 180.0}, 'stacking': True, 'turnover': True}, {'size': {'width': 95.0, 'height': 182.0, 'length': 142.0}, 'stacking': True, 'turnover': True}, {'size': {'width': 97.0, 'height': 180.0, 'length': 143.0}, 'stacking': True, 'turnover': True}, {'size': {'width': 57.0, 'height': 117.0, 'length': 182.0}, 'stacking': True, 'turnover': True}, {'size': {'width': 87.0, 'height': 144.0, 'length': 263.0}, 'stacking': True, 'turnover': True}, {'size': {'width': 87.0, 'height': 144.0, 'length': 263.0}, 'stacking': True, 'turnover': True}, {'size': {'width': 181.0, 'height': 157.0, 'length': 241.0}, 'stacking': True, 'turnover': True}, {'size': {'width': 150.0, 'height': 213.0, 'length': 228.0}, 'stacking': True, 'turnover': True}, {'size': {'width': 177.0, 'height': 167.0, 'length': 240.0}, 'stacking': True, 'turnover': True}, {'size': {'width': 151.0, 'height': 165.0, 'length': 220.0}, 'stacking': True, 'turnover': True}, {'size': {'width': 97.0, 'height': 180.0, 'length': 143.0}, 'stacking': True, 'turnover': True}, {'size': {'width': 104.0, 'height': 115.0, 'length': 155.0}, 'stacking': True, 'turnover': True}, {'size': {'width': 104.0, 'height': 115.0, 'length': 155.0}, 'stacking': True, 'turnover': True}, {'size': {'width': 104.0, 'height': 115.0, 'length': 155.0}, 'stacking': True, 'turnover': True}, {'size': {'width': 57.0, 'height': 117.0, 'length': 180.0}, 'stacking': True, 'turnover': True}]\n"
     ]
    }
   ],
   "source": [
    "data = values['data_result']['boxes']\n",
    "for x in data:\n",
    "    for key in list(x.keys()):\n",
    "        if key not in ('size', 'stacking','turnover'):\n",
    "            x.pop(key)\n",
    "print(data)"
   ]
  },
  {
   "cell_type": "code",
   "execution_count": 41,
   "metadata": {},
   "outputs": [],
   "source": [
    "widthList = []\n",
    "heightList = []\n",
    "lengthList = []\n",
    "volumeList = []\n",
    "countStacking = 0\n",
    "countTurnover = 0\n",
    "boxesCount = 0\n",
    "for x in data:\n",
    "    widthList.append(x['size']['width'])\n",
    "    heightList.append(x['size']['height'])\n",
    "    lengthList.append(x['size']['length'])\n",
    "    volumeList.append(x['size']['width']*x['size']['height']*x['size']['length'])\n",
    "    if x['stacking'] == True:\n",
    "        countStacking += 1\n",
    "    if x['turnover'] == True:\n",
    "        countTurnover += 1\n",
    "    boxesCount += 1"
   ]
  },
  {
   "cell_type": "code",
   "execution_count": 42,
   "metadata": {},
   "outputs": [
    {
     "name": "stdout",
     "output_type": "stream",
     "text": [
      "130.96296296296296 175.96666666666667 214.5962962962963 5811432.877777778 270 270 270\n"
     ]
    }
   ],
   "source": [
    "meanWidth = statistics.mean(widthList)\n",
    "meanHeight = statistics.mean(heightList)\n",
    "meanLength = statistics.mean(lengthList)\n",
    "meanVolume = statistics.mean(volumeList)\n",
    "print(meanWidth, meanHeight, meanLength, meanVolume, countStacking, countTurnover, boxesCount)"
   ]
  },
  {
   "cell_type": "code",
   "execution_count": 33,
   "metadata": {},
   "outputs": [],
   "source": [
    "loadingWidth = values['data_result']['cargo_space']['loading_size']['width']\n",
    "loadingHeight = values['data_result']['cargo_space']['loading_size']['height']\n",
    "loadingLength = values['data_result']['cargo_space']['loading_size']['length']"
   ]
  },
  {
   "cell_type": "code",
   "execution_count": 48,
   "metadata": {},
   "outputs": [],
   "source": [
    "density_percent = values['data_result']['cargo_space']['calculation_info']['density_percent']\n",
    "filling_space_percent = values['data_result']['cargo_space']['calculation_info']['filling_space_percent']"
   ]
  },
  {
   "cell_type": "code",
   "execution_count": 49,
   "metadata": {},
   "outputs": [
    {
     "name": "stdout",
     "output_type": "stream",
     "text": [
      "Средняя ширина: 130.96296296296296\n",
      "Средняя высота: 175.96666666666667\n",
      "Средняя длина: 214.5962962962963\n",
      "Средний объем: 5811432.877777778\n",
      "Количество коробок с штабелированием: 270\n",
      "Количество коробок с кантованием: 270\n",
      "Количество коробок: 270\n",
      "Ширина контейнера: 800.0\n",
      "Высота контейнера: 2000.0\n",
      "Длина контейнера: 1200.0\n",
      "Плотность укладки: 81.76416\n",
      "Процент заполнения: 81.72327\n"
     ]
    }
   ],
   "source": [
    "print('Средняя ширина: ' + str(meanWidth) + \n",
    "      '\\nСредняя высота: ' + str(meanHeight) +\n",
    "       '\\nСредняя длина: ' + str(meanLength) +\n",
    "        '\\nСредний объем: ' + str(meanVolume) +\n",
    "         '\\nКоличество коробок с штабелированием: ' + str(countStacking) +\n",
    "           '\\nКоличество коробок с кантованием: ' + str(countTurnover) + \n",
    "            '\\nКоличество коробок: ' + str(boxesCount)+\n",
    "            '\\nШирина контейнера: ' + str(loadingWidth)+\n",
    "            '\\nВысота контейнера: '+ str(loadingHeight)+\n",
    "            '\\nДлина контейнера: '+ str(loadingLength)+\n",
    "            '\\nПлотность укладки: '+ str(density_percent)+\n",
    "            '\\nПроцент заполнения: '+ str(filling_space_percent))"
   ]
  },
  {
   "cell_type": "code",
   "execution_count": null,
   "metadata": {},
   "outputs": [],
   "source": []
  }
 ],
 "metadata": {
  "kernelspec": {
   "display_name": "Python 3",
   "language": "python",
   "name": "python3"
  },
  "language_info": {
   "codemirror_mode": {
    "name": "ipython",
    "version": 3
   },
   "file_extension": ".py",
   "mimetype": "text/x-python",
   "name": "python",
   "nbconvert_exporter": "python",
   "pygments_lexer": "ipython3",
   "version": "3.9.1"
  },
  "orig_nbformat": 4
 },
 "nbformat": 4,
 "nbformat_minor": 2
}
